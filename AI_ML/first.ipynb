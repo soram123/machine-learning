{
 "cells": [
  {
   "cell_type": "code",
   "execution_count": 2,
   "id": "bb3b17e4-6eae-4e43-8571-fc9a8dd74105",
   "metadata": {},
   "outputs": [
    {
     "ename": "UnicodeDecodeError",
     "evalue": "'charmap' codec can't decode byte 0x81 in position 117: character maps to <undefined>",
     "output_type": "error",
     "traceback": [
      "\u001b[1;31m---------------------------------------------------------------------------\u001b[0m",
      "\u001b[1;31mUnicodeDecodeError\u001b[0m                        Traceback (most recent call last)",
      "Cell \u001b[1;32mIn[2], line 2\u001b[0m\n\u001b[0;32m      1\u001b[0m fd \u001b[38;5;241m=\u001b[39m \u001b[38;5;28mopen\u001b[39m(\u001b[38;5;124m\"\u001b[39m\u001b[38;5;124mdata.txt.txt\u001b[39m\u001b[38;5;124m\"\u001b[39m,\u001b[38;5;124m\"\u001b[39m\u001b[38;5;124mr\u001b[39m\u001b[38;5;124m\"\u001b[39m)\n\u001b[1;32m----> 2\u001b[0m txt \u001b[38;5;241m=\u001b[39m \u001b[43mfd\u001b[49m\u001b[38;5;241;43m.\u001b[39;49m\u001b[43mread\u001b[49m\u001b[43m(\u001b[49m\u001b[43m)\u001b[49m\n\u001b[0;32m      3\u001b[0m \u001b[38;5;28mprint\u001b[39m(txt)\n\u001b[0;32m      4\u001b[0m fd\u001b[38;5;241m.\u001b[39mclose()\n",
      "File \u001b[1;32m~\\AppData\\Local\\Programs\\Python\\Python310\\lib\\encodings\\cp1252.py:23\u001b[0m, in \u001b[0;36mIncrementalDecoder.decode\u001b[1;34m(self, input, final)\u001b[0m\n\u001b[0;32m     22\u001b[0m \u001b[38;5;28;01mdef\u001b[39;00m \u001b[38;5;21mdecode\u001b[39m(\u001b[38;5;28mself\u001b[39m, \u001b[38;5;28minput\u001b[39m, final\u001b[38;5;241m=\u001b[39m\u001b[38;5;28;01mFalse\u001b[39;00m):\n\u001b[1;32m---> 23\u001b[0m     \u001b[38;5;28;01mreturn\u001b[39;00m \u001b[43mcodecs\u001b[49m\u001b[38;5;241;43m.\u001b[39;49m\u001b[43mcharmap_decode\u001b[49m\u001b[43m(\u001b[49m\u001b[38;5;28;43minput\u001b[39;49m\u001b[43m,\u001b[49m\u001b[38;5;28;43mself\u001b[39;49m\u001b[38;5;241;43m.\u001b[39;49m\u001b[43merrors\u001b[49m\u001b[43m,\u001b[49m\u001b[43mdecoding_table\u001b[49m\u001b[43m)\u001b[49m[\u001b[38;5;241m0\u001b[39m]\n",
      "\u001b[1;31mUnicodeDecodeError\u001b[0m: 'charmap' codec can't decode byte 0x81 in position 117: character maps to <undefined>"
     ]
    }
   ],
   "source": [
    "fd = open(\"data.txt.txt\",\"r\")\n",
    "txt = fd.read()\n",
    "print(txt)\n",
    "fd.close()"
   ]
  },
  {
   "cell_type": "code",
   "execution_count": 3,
   "id": "51d54f09-95a6-4bf1-ad05-49b83c46d390",
   "metadata": {},
   "outputs": [
    {
     "ename": "UnicodeDecodeError",
     "evalue": "'charmap' codec can't decode byte 0x81 in position 117: character maps to <undefined>",
     "output_type": "error",
     "traceback": [
      "\u001b[1;31m---------------------------------------------------------------------------\u001b[0m",
      "\u001b[1;31mUnicodeDecodeError\u001b[0m                        Traceback (most recent call last)",
      "Cell \u001b[1;32mIn[3], line 2\u001b[0m\n\u001b[0;32m      1\u001b[0m fd \u001b[38;5;241m=\u001b[39m \u001b[38;5;28mopen\u001b[39m(\u001b[38;5;124m\"\u001b[39m\u001b[38;5;124m./data.txt\u001b[39m\u001b[38;5;124m\"\u001b[39m,\u001b[38;5;124m\"\u001b[39m\u001b[38;5;124mr\u001b[39m\u001b[38;5;124m\"\u001b[39m)\n\u001b[1;32m----> 2\u001b[0m txt \u001b[38;5;241m=\u001b[39m \u001b[43mfd\u001b[49m\u001b[38;5;241;43m.\u001b[39;49m\u001b[43mread\u001b[49m\u001b[43m(\u001b[49m\u001b[43m)\u001b[49m\n\u001b[0;32m      3\u001b[0m \u001b[38;5;28mprint\u001b[39m(txt)\n\u001b[0;32m      4\u001b[0m fd\u001b[38;5;241m.\u001b[39mclose()\n",
      "File \u001b[1;32m~\\AppData\\Local\\Programs\\Python\\Python310\\lib\\encodings\\cp1252.py:23\u001b[0m, in \u001b[0;36mIncrementalDecoder.decode\u001b[1;34m(self, input, final)\u001b[0m\n\u001b[0;32m     22\u001b[0m \u001b[38;5;28;01mdef\u001b[39;00m \u001b[38;5;21mdecode\u001b[39m(\u001b[38;5;28mself\u001b[39m, \u001b[38;5;28minput\u001b[39m, final\u001b[38;5;241m=\u001b[39m\u001b[38;5;28;01mFalse\u001b[39;00m):\n\u001b[1;32m---> 23\u001b[0m     \u001b[38;5;28;01mreturn\u001b[39;00m \u001b[43mcodecs\u001b[49m\u001b[38;5;241;43m.\u001b[39;49m\u001b[43mcharmap_decode\u001b[49m\u001b[43m(\u001b[49m\u001b[38;5;28;43minput\u001b[39;49m\u001b[43m,\u001b[49m\u001b[38;5;28;43mself\u001b[39;49m\u001b[38;5;241;43m.\u001b[39;49m\u001b[43merrors\u001b[49m\u001b[43m,\u001b[49m\u001b[43mdecoding_table\u001b[49m\u001b[43m)\u001b[49m[\u001b[38;5;241m0\u001b[39m]\n",
      "\u001b[1;31mUnicodeDecodeError\u001b[0m: 'charmap' codec can't decode byte 0x81 in position 117: character maps to <undefined>"
     ]
    }
   ],
   "source": [
    "fd = open(\"./data.txt\",\"r\")\n",
    "txt = fd.read()\n",
    "print(txt)\n",
    "fd.close()"
   ]
  },
  {
   "cell_type": "code",
   "execution_count": 4,
   "id": "2e6af657-dbb1-4aee-bd8b-2c547dd0bfbc",
   "metadata": {},
   "outputs": [
    {
     "ename": "UnicodeDecodeError",
     "evalue": "'charmap' codec can't decode byte 0x81 in position 117: character maps to <undefined>",
     "output_type": "error",
     "traceback": [
      "\u001b[1;31m---------------------------------------------------------------------------\u001b[0m",
      "\u001b[1;31mUnicodeDecodeError\u001b[0m                        Traceback (most recent call last)",
      "Cell \u001b[1;32mIn[4], line 2\u001b[0m\n\u001b[0;32m      1\u001b[0m fd \u001b[38;5;241m=\u001b[39m \u001b[38;5;28mopen\u001b[39m(\u001b[38;5;124m\"\u001b[39m\u001b[38;5;124m./data.txt\u001b[39m\u001b[38;5;124m\"\u001b[39m,\u001b[38;5;124m\"\u001b[39m\u001b[38;5;124mr\u001b[39m\u001b[38;5;124m\"\u001b[39m)\n\u001b[1;32m----> 2\u001b[0m txt \u001b[38;5;241m=\u001b[39m \u001b[43mfd\u001b[49m\u001b[38;5;241;43m.\u001b[39;49m\u001b[43mread\u001b[49m\u001b[43m(\u001b[49m\u001b[43m)\u001b[49m\n\u001b[0;32m      3\u001b[0m \u001b[38;5;28mprint\u001b[39m(txt)\n\u001b[0;32m      4\u001b[0m fd\u001b[38;5;241m.\u001b[39mclose()\n",
      "File \u001b[1;32m~\\AppData\\Local\\Programs\\Python\\Python310\\lib\\encodings\\cp1252.py:23\u001b[0m, in \u001b[0;36mIncrementalDecoder.decode\u001b[1;34m(self, input, final)\u001b[0m\n\u001b[0;32m     22\u001b[0m \u001b[38;5;28;01mdef\u001b[39;00m \u001b[38;5;21mdecode\u001b[39m(\u001b[38;5;28mself\u001b[39m, \u001b[38;5;28minput\u001b[39m, final\u001b[38;5;241m=\u001b[39m\u001b[38;5;28;01mFalse\u001b[39;00m):\n\u001b[1;32m---> 23\u001b[0m     \u001b[38;5;28;01mreturn\u001b[39;00m \u001b[43mcodecs\u001b[49m\u001b[38;5;241;43m.\u001b[39;49m\u001b[43mcharmap_decode\u001b[49m\u001b[43m(\u001b[49m\u001b[38;5;28;43minput\u001b[39;49m\u001b[43m,\u001b[49m\u001b[38;5;28;43mself\u001b[39;49m\u001b[38;5;241;43m.\u001b[39;49m\u001b[43merrors\u001b[49m\u001b[43m,\u001b[49m\u001b[43mdecoding_table\u001b[49m\u001b[43m)\u001b[49m[\u001b[38;5;241m0\u001b[39m]\n",
      "\u001b[1;31mUnicodeDecodeError\u001b[0m: 'charmap' codec can't decode byte 0x81 in position 117: character maps to <undefined>"
     ]
    }
   ],
   "source": [
    "fd = open(\"./data.txt\",\"r\")\n",
    "txt = fd.read()\n",
    "print(txt)\n",
    "fd.close()"
   ]
  },
  {
   "cell_type": "code",
   "execution_count": 5,
   "id": "bf1242f7-311c-4202-9c2e-fc257153643d",
   "metadata": {},
   "outputs": [
    {
     "data": {
      "text/plain": [
       "15"
      ]
     },
     "execution_count": 5,
     "metadata": {},
     "output_type": "execute_result"
    }
   ],
   "source": [
    "x = 5+10\n",
    "x\n"
   ]
  },
  {
   "cell_type": "code",
   "execution_count": 6,
   "id": "7aa60fe9-cb68-4055-83a3-745f8da6fcba",
   "metadata": {},
   "outputs": [
    {
     "name": "stdout",
     "output_type": "stream",
     "text": [
      " Volume in drive C is Windows-SSD\n",
      " Volume Serial Number is 2E6A-D6FB\n",
      "\n",
      " Directory of C:\\Users\\Soram Wanglen\\AI_ML_gfg\n",
      "\n",
      "17-12-2023  12:35    <DIR>          .\n",
      "17-12-2023  11:40    <DIR>          ..\n",
      "17-12-2023  12:29    <DIR>          .ipynb_checkpoints\n",
      "17-12-2023  11:40             1,291 data.txt\n",
      "17-12-2023  12:35             7,981 first.ipynb\n",
      "               2 File(s)          9,272 bytes\n",
      "               3 Dir(s)  147,210,170,368 bytes free\n"
     ]
    }
   ],
   "source": [
    "ls\n"
   ]
  },
  {
   "cell_type": "code",
   "execution_count": 12,
   "id": "720d969e-bf84-4d24-9cf6-5f2d4c556ac9",
   "metadata": {},
   "outputs": [
    {
     "name": "stdout",
     "output_type": "stream",
     "text": [
      "The name \"coronavirus\" is derived from Latin corona, meaning \"crown\" or \"wreath\", itself a borrowing from Greek κορώνη korṓnē, \"garland, wreath\". The name was coined by June Almeida and David Tyrrell who first observed and studied human coronaviruses. The word was first used in print in 1968 by an informal group of virologists in the journal Nature to designate the new family of viruses. The name refers to the characteristic appearance of virions (the infective form of the virus) by electron microscopy, which have a fringe of large, bulbous surface projections creating an image reminiscent of the solar corona or halo. This morphology is created by the viral spike peplomers, which are proteins on the surface of the virus.\n",
      "\n",
      "The scientific name Coronavirus was accepted as a genus name by the International Committee for the Nomenclature of Viruses (later renamed International Committee on Taxonomy of Viruses) in 1971. As the number of new species increased, the genus was split into four genera, namely Alphacoronavirus, Betacoronavirus, Deltacoronavirus, and Gammacoronavirus in 2009. The common name coronavirus is used to refer to any member of the subfamily Orthocoronavirinae.[4] As of 2020, 45 species are officially recognised.\n"
     ]
    }
   ],
   "source": [
    "fd = open(\"data.txt\",\"r\",encoding=\"utf8\")\n",
    "txt = fd.read()\n",
    "for i in range(7,15):\n",
    "    pattern = \"[\" +str(i)+ \"]\"\n",
    "    txt = txt.replace(pattern,\"\")\n",
    "    \n",
    "print(txt)\n",
    "fd.close()"
   ]
  },
  {
   "cell_type": "code",
   "execution_count": 13,
   "id": "eabb294f-f69a-4257-ad3c-d108fcfda539",
   "metadata": {},
   "outputs": [],
   "source": [
    "fd = open(\"Inventory.txt\",\"w\")\n",
    "fd.close()"
   ]
  },
  {
   "cell_type": "markdown",
   "id": "c77e8487-4a8d-4ade-abcb-9d3ee4333651",
   "metadata": {},
   "source": [
    "##Product Details\n",
    "\n",
    "1. Product ID\n",
    "2. Name of Product\n",
    "3. Price of Product\n",
    "4. Quantity\n",
    "   "
   ]
  },
  {
   "cell_type": "code",
   "execution_count": 14,
   "id": "a323c9c0-8732-4978-9c09-0e09a08f28ec",
   "metadata": {},
   "outputs": [
    {
     "name": "stdout",
     "output_type": "stream",
     "text": [
      "1,KitKat,45,100\n",
      "2,Dairy Milk,25,200\n",
      "3,Nestle Bar,30,150\n",
      "4,Epsellium Bar,23,90\n"
     ]
    }
   ],
   "source": [
    "fd = open(\"Inventory.txt\",\"r\")\n",
    "txt = fd.read()\n",
    "print(txt) \n",
    "fd.close()"
   ]
  },
  {
   "cell_type": "code",
   "execution_count": 15,
   "id": "0735792f-37ed-4502-86a6-154c59d471ab",
   "metadata": {},
   "outputs": [
    {
     "data": {
      "text/plain": [
       "'1,KitKat,45,100\\n2,Dairy Milk,25,200\\n3,Nestle Bar,30,150\\n4,Epsellium Bar,23,90'"
      ]
     },
     "execution_count": 15,
     "metadata": {},
     "output_type": "execute_result"
    }
   ],
   "source": [
    "txt\n"
   ]
  },
  {
   "cell_type": "code",
   "execution_count": 16,
   "id": "99b5e87c-a366-4b62-8090-3cd0a4e3e0b6",
   "metadata": {},
   "outputs": [
    {
     "data": {
      "text/plain": [
       "['1,KitKat,45,100',\n",
       " '2,Dairy Milk,25,200',\n",
       " '3,Nestle Bar,30,150',\n",
       " '4,Epsellium Bar,23,90']"
      ]
     },
     "execution_count": 16,
     "metadata": {},
     "output_type": "execute_result"
    }
   ],
   "source": [
    "txt.split(\"\\n\")"
   ]
  },
  {
   "cell_type": "code",
   "execution_count": 17,
   "id": "41a4d761-84d3-4ffa-82f9-3965ef0d619e",
   "metadata": {},
   "outputs": [
    {
     "data": {
      "text/plain": [
       "'1,KitKat,45,100\\n2,Dairy Milk,25,200\\n3,Nestle Bar,30,150\\n4,Epsellium Bar,23,90'"
      ]
     },
     "execution_count": 17,
     "metadata": {},
     "output_type": "execute_result"
    }
   ],
   "source": [
    "txt"
   ]
  },
  {
   "cell_type": "code",
   "execution_count": 18,
   "id": "11674fc9-e949-4db7-bed1-ce50fb5a4f4c",
   "metadata": {},
   "outputs": [
    {
     "data": {
      "text/plain": [
       "'1,KitKat,45,100\\n2,Dairy Milk,25,200\\n3,Nestle Bar,30,150\\n4,Epsellium Bar,23,90'"
      ]
     },
     "execution_count": 18,
     "metadata": {},
     "output_type": "execute_result"
    }
   ],
   "source": [
    "txt\n"
   ]
  },
  {
   "cell_type": "code",
   "execution_count": 19,
   "id": "8b3691ee-5552-4678-a83e-c5db13dffc41",
   "metadata": {},
   "outputs": [
    {
     "data": {
      "text/plain": [
       "['1,KitKat,45,100',\n",
       " '2,Dairy Milk,25,200',\n",
       " '3,Nestle Bar,30,150',\n",
       " '4,Epsellium Bar,23,90']"
      ]
     },
     "execution_count": 19,
     "metadata": {},
     "output_type": "execute_result"
    }
   ],
   "source": [
    "products = txt.split(\"\\n\")\n",
    "products"
   ]
  },
  {
   "cell_type": "code",
   "execution_count": 28,
   "id": "9db551a2-abb3-47b3-83ab-1349d4434e1d",
   "metadata": {},
   "outputs": [
    {
     "name": "stdin",
     "output_type": "stream",
     "text": [
      "enter product Id 1\n",
      "enter product quantity 2\n"
     ]
    },
    {
     "name": "stdout",
     "output_type": "stream",
     "text": [
      "-------------------------------\n",
      "product id:  1\n",
      "product name:  KitKat\n",
      "product qty:  2\n",
      "---------------------------------\n",
      "total :  90\n",
      "---------------------------------\n"
     ]
    }
   ],
   "source": [
    "prod_id = input(\"enter product Id\")\n",
    "prod_qty = input(\"enter product quantity\")\n",
    "\n",
    "product_list = []\n",
    "for product in products:\n",
    "    prod = product.split(\",\")\n",
    "    if(prod_id == prod[0]):\n",
    "        print(\"-------------------------------\")\n",
    "        print(\"product id: \",prod[0])\n",
    "        print(\"product name: \",prod[1])\n",
    "        print(\"product qty: \",prod_qty)\n",
    "        print(\"---------------------------------\")\n",
    "        print(\"total : \",int(prod[2]) * int(prod_qty))\n",
    "        print(\"---------------------------------\")\n",
    "\n",
    "        prod[3] =  str(int(prod[3]) - int(prod_qty))\n",
    "    product_list.append(prod)\n",
    "        "
   ]
  },
  {
   "cell_type": "code",
   "execution_count": 25,
   "id": "4f10cbe8-b85d-4565-b7e7-570b9ca6babb",
   "metadata": {},
   "outputs": [
    {
     "name": "stdout",
     "output_type": "stream",
     "text": [
      "1,KitKat,45,100\n",
      "2,Dairy Milk,25,200\n",
      "3,Nestle Bar,30,150\n",
      "4,Epsellium Bar,23,90\n"
     ]
    }
   ],
   "source": [
    "for i in products:\n",
    "    print(i)"
   ]
  },
  {
   "cell_type": "code",
   "execution_count": 30,
   "id": "7a2a6b8c-ccfb-4cab-9f17-af189aa99e0c",
   "metadata": {},
   "outputs": [
    {
     "name": "stdout",
     "output_type": "stream",
     "text": [
      "['1', 'KitKat', '45', '98']\n",
      "['2', 'Dairy Milk', '25', '200']\n",
      "['3', 'Nestle Bar', '30', '150']\n",
      "['4', 'Epsellium Bar', '23', '90']\n"
     ]
    }
   ],
   "source": [
    "for i in product_list:\n",
    "    print(i)"
   ]
  },
  {
   "cell_type": "code",
   "execution_count": 29,
   "id": "ebf32716-0a5d-471d-b64c-6d087346da75",
   "metadata": {},
   "outputs": [
    {
     "name": "stdout",
     "output_type": "stream",
     "text": [
      "1,KitKat,45,98\n",
      "2,Dairy Milk,25,200\n",
      "3,Nestle Bar,30,150\n",
      "4,Epsellium Bar,23,90\n"
     ]
    }
   ],
   "source": [
    "for i in product_list:\n",
    "    print(i[0]+\",\"+i[1]+\",\"+i[2]+\",\"+i[3])"
   ]
  },
  {
   "cell_type": "code",
   "execution_count": null,
   "id": "820ada0a-8e30-431d-ba54-60cc3a0690b2",
   "metadata": {},
   "outputs": [],
   "source": []
  }
 ],
 "metadata": {
  "kernelspec": {
   "display_name": "Python 3 (ipykernel)",
   "language": "python",
   "name": "python3"
  },
  "language_info": {
   "codemirror_mode": {
    "name": "ipython",
    "version": 3
   },
   "file_extension": ".py",
   "mimetype": "text/x-python",
   "name": "python",
   "nbconvert_exporter": "python",
   "pygments_lexer": "ipython3",
   "version": "3.10.5"
  }
 },
 "nbformat": 4,
 "nbformat_minor": 5
}
