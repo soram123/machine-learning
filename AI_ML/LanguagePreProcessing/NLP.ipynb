{
 "cells": [
  {
   "cell_type": "code",
   "execution_count": 21,
   "id": "adcc7d40-5fc5-4b03-b638-d4c116f60293",
   "metadata": {},
   "outputs": [
    {
     "name": "stdout",
     "output_type": "stream",
     "text": [
      "Requirement already satisfied: nltk in c:\\users\\soram wanglen\\appdata\\local\\programs\\python\\python310\\lib\\site-packages (3.8.1)\n",
      "Requirement already satisfied: click in c:\\users\\soram wanglen\\appdata\\local\\programs\\python\\python310\\lib\\site-packages (from nltk) (8.1.7)\n",
      "Requirement already satisfied: joblib in c:\\users\\soram wanglen\\appdata\\local\\programs\\python\\python310\\lib\\site-packages (from nltk) (1.3.2)\n",
      "Requirement already satisfied: regex>=2021.8.3 in c:\\users\\soram wanglen\\appdata\\local\\programs\\python\\python310\\lib\\site-packages (from nltk) (2023.12.25)\n",
      "Requirement already satisfied: tqdm in c:\\users\\soram wanglen\\appdata\\local\\programs\\python\\python310\\lib\\site-packages (from nltk) (4.66.1)\n",
      "Requirement already satisfied: colorama in c:\\users\\soram wanglen\\appdata\\local\\programs\\python\\python310\\lib\\site-packages (from click->nltk) (0.4.6)\n"
     ]
    },
    {
     "name": "stderr",
     "output_type": "stream",
     "text": [
      "\n",
      "[notice] A new release of pip available: 22.2.1 -> 23.3.2\n",
      "[notice] To update, run: python.exe -m pip install --upgrade pip\n"
     ]
    }
   ],
   "source": [
    "!pip install nltk"
   ]
  },
  {
   "cell_type": "code",
   "execution_count": 31,
   "id": "9e19e134-6691-4d9d-b4f2-cd480fe1cf6d",
   "metadata": {},
   "outputs": [
    {
     "name": "stderr",
     "output_type": "stream",
     "text": [
      "[nltk_data] Downloading package punkt to C:\\Users\\Soram\n",
      "[nltk_data]     Wanglen\\AppData\\Roaming\\nltk_data...\n",
      "[nltk_data]   Unzipping tokenizers\\punkt.zip.\n"
     ]
    },
    {
     "data": {
      "text/plain": [
       "True"
      ]
     },
     "execution_count": 31,
     "metadata": {},
     "output_type": "execute_result"
    }
   ],
   "source": [
    "import nltk\n",
    "nltk.download('punkt')"
   ]
  },
  {
   "cell_type": "code",
   "execution_count": 32,
   "id": "d3ef388f-4f8d-4bd9-9307-849cee0ef471",
   "metadata": {},
   "outputs": [],
   "source": [
    "txt = \"Hello Geeks. We're hoping you guys are doing great\""
   ]
  },
  {
   "cell_type": "code",
   "execution_count": 33,
   "id": "bfcd1974-ff4f-4a7b-8182-10cf9e317279",
   "metadata": {},
   "outputs": [
    {
     "data": {
      "text/plain": [
       "\"Hello Geeks. We're hoping you guys are doing great\""
      ]
     },
     "execution_count": 33,
     "metadata": {},
     "output_type": "execute_result"
    }
   ],
   "source": [
    "txt"
   ]
  },
  {
   "cell_type": "code",
   "execution_count": 34,
   "id": "f9cb82a7-5f03-4508-9ec3-96393131845c",
   "metadata": {},
   "outputs": [
    {
     "data": {
      "text/plain": [
       "['Hello Geeks', \" We're hoping you guys are doing great\"]"
      ]
     },
     "execution_count": 34,
     "metadata": {},
     "output_type": "execute_result"
    }
   ],
   "source": [
    "txt.split('.')"
   ]
  },
  {
   "cell_type": "code",
   "execution_count": 35,
   "id": "2bd1304b-8ba9-42b7-8356-faa3cc93d882",
   "metadata": {},
   "outputs": [
    {
     "data": {
      "text/plain": [
       "2"
      ]
     },
     "execution_count": 35,
     "metadata": {},
     "output_type": "execute_result"
    }
   ],
   "source": [
    "len(txt.split('.'))"
   ]
  },
  {
   "cell_type": "code",
   "execution_count": 36,
   "id": "17a6b803-00e1-4f14-9858-d1b1c729893e",
   "metadata": {},
   "outputs": [],
   "source": [
    "from nltk.tokenize import word_tokenize, sent_tokenize "
   ]
  },
  {
   "cell_type": "code",
   "execution_count": 37,
   "id": "73963611-1540-4c20-92bb-1d63502ea99d",
   "metadata": {},
   "outputs": [
    {
     "data": {
      "text/plain": [
       "'3.8.1'"
      ]
     },
     "execution_count": 37,
     "metadata": {},
     "output_type": "execute_result"
    }
   ],
   "source": [
    "nltk.__version__"
   ]
  },
  {
   "cell_type": "code",
   "execution_count": 38,
   "id": "d8a9c969-8021-4309-abf1-012b82510d7e",
   "metadata": {},
   "outputs": [
    {
     "data": {
      "text/plain": [
       "['Hello Geeks.', \"We're hoping you guys are doing great\"]"
      ]
     },
     "execution_count": 38,
     "metadata": {},
     "output_type": "execute_result"
    }
   ],
   "source": [
    "sent_tokenize(txt)"
   ]
  },
  {
   "cell_type": "code",
   "execution_count": 40,
   "id": "650cb2e7-629f-4360-8082-ff01252af8aa",
   "metadata": {},
   "outputs": [
    {
     "data": {
      "text/plain": [
       "['Hello',\n",
       " 'Geeks',\n",
       " '.',\n",
       " 'We',\n",
       " \"'re\",\n",
       " 'hoping',\n",
       " 'you',\n",
       " 'guys',\n",
       " 'are',\n",
       " 'doing',\n",
       " 'great']"
      ]
     },
     "execution_count": 40,
     "metadata": {},
     "output_type": "execute_result"
    }
   ],
   "source": [
    "word_tokenize(txt)"
   ]
  },
  {
   "cell_type": "code",
   "execution_count": 41,
   "id": "93ddb354-19ae-4b2b-a6d3-e0d0f2a4c37e",
   "metadata": {},
   "outputs": [
    {
     "name": "stdout",
     "output_type": "stream",
     "text": [
      "Hello\n",
      "Geeks\n",
      "We\n",
      "'re\n",
      "hoping\n",
      "you\n",
      "guys\n",
      "are\n",
      "doing\n",
      "great\n"
     ]
    }
   ],
   "source": [
    "for word in word_tokenize(txt):\n",
    "   if(word != '.'):\n",
    "      print(word)"
   ]
  },
  {
   "cell_type": "code",
   "execution_count": null,
   "id": "366edcca-c306-4d0d-9ad3-ac330e7aa2f9",
   "metadata": {},
   "outputs": [],
   "source": []
  }
 ],
 "metadata": {
  "kernelspec": {
   "display_name": "Python 3 (ipykernel)",
   "language": "python",
   "name": "python3"
  },
  "language_info": {
   "codemirror_mode": {
    "name": "ipython",
    "version": 3
   },
   "file_extension": ".py",
   "mimetype": "text/x-python",
   "name": "python",
   "nbconvert_exporter": "python",
   "pygments_lexer": "ipython3",
   "version": "3.10.5"
  }
 },
 "nbformat": 4,
 "nbformat_minor": 5
}
